{
 "cells": [
  {
   "cell_type": "code",
   "execution_count": 2,
   "metadata": {},
   "outputs": [],
   "source": [
    "import pandas as pd"
   ]
  },
  {
   "cell_type": "code",
   "execution_count": 60,
   "metadata": {},
   "outputs": [],
   "source": [
    "data = pd.read_json('./putuo.json')\n",
    "price_gap = 0.1"
   ]
  },
  {
   "cell_type": "code",
   "execution_count": 61,
   "metadata": {},
   "outputs": [],
   "source": [
    "data_clean = data[['标题', '总价', '每平方售价', '产权年限', '建造时间', '小区名称', '梯户比例']].rename(index=str, columns={'标题': 'title', '总价': 'total_price', '每平方售价': 'price', '产权年限' : 'period', '建造时间': 'time', '小区名称': 'community', '梯户比例': 'neighbours'})"
   ]
  },
  {
   "cell_type": "code",
   "execution_count": 62,
   "metadata": {},
   "outputs": [],
   "source": [
    "data_clean.total_price = data_clean.total_price.map(lambda x: x.strip('万')).astype(float)\n",
    "data_clean.price = data_clean.price.map(lambda x: x.strip('元/平米')).astype(float)"
   ]
  },
  {
   "cell_type": "code",
   "execution_count": 63,
   "metadata": {},
   "outputs": [
    {
     "data": {
      "text/html": [
       "<div>\n",
       "<style scoped>\n",
       "    .dataframe tbody tr th:only-of-type {\n",
       "        vertical-align: middle;\n",
       "    }\n",
       "\n",
       "    .dataframe tbody tr th {\n",
       "        vertical-align: top;\n",
       "    }\n",
       "\n",
       "    .dataframe thead th {\n",
       "        text-align: right;\n",
       "    }\n",
       "</style>\n",
       "<table border=\"1\" class=\"dataframe\">\n",
       "  <thead>\n",
       "    <tr style=\"text-align: right;\">\n",
       "      <th></th>\n",
       "      <th>title</th>\n",
       "      <th>total_price</th>\n",
       "      <th>price</th>\n",
       "      <th>period</th>\n",
       "      <th>time</th>\n",
       "      <th>community</th>\n",
       "      <th>neighbours</th>\n",
       "    </tr>\n",
       "  </thead>\n",
       "  <tbody>\n",
       "    <tr>\n",
       "      <th>0</th>\n",
       "      <td>汪家井西区，精装一室一厅，满五唯一，90年房龄</td>\n",
       "      <td>212.0</td>\n",
       "      <td>46522.0</td>\n",
       "      <td>未知</td>\n",
       "      <td>1990年建/板楼</td>\n",
       "      <td>汪家井小区</td>\n",
       "      <td>一梯六户</td>\n",
       "    </tr>\n",
       "    <tr>\n",
       "      <th>1</th>\n",
       "      <td>近中环 中间楼层 满五唯一 价格可谈 诚意出售</td>\n",
       "      <td>238.0</td>\n",
       "      <td>41998.0</td>\n",
       "      <td>未知</td>\n",
       "      <td>1995年建/板楼</td>\n",
       "      <td>真光九街坊</td>\n",
       "      <td>一梯四户</td>\n",
       "    </tr>\n",
       "    <tr>\n",
       "      <th>2</th>\n",
       "      <td>汪家井小区 2室1厅 225万</td>\n",
       "      <td>225.0</td>\n",
       "      <td>44205.0</td>\n",
       "      <td>未知</td>\n",
       "      <td>1987年建/板楼</td>\n",
       "      <td>汪家井小区</td>\n",
       "      <td>一梯四户</td>\n",
       "    </tr>\n",
       "    <tr>\n",
       "      <th>3</th>\n",
       "      <td>全明户型，朝南带阳台，厨卫朝北，楼层好，采光充足</td>\n",
       "      <td>280.0</td>\n",
       "      <td>69722.0</td>\n",
       "      <td>未知</td>\n",
       "      <td>1987年建/板楼</td>\n",
       "      <td>东新支路55弄</td>\n",
       "      <td>一梯九户</td>\n",
       "    </tr>\n",
       "    <tr>\n",
       "      <th>4</th>\n",
       "      <td>满五唯一，精装修，一梯三户 边套全明  价格可谈</td>\n",
       "      <td>230.0</td>\n",
       "      <td>56791.0</td>\n",
       "      <td>未知</td>\n",
       "      <td>1980年建/板楼</td>\n",
       "      <td>宜川一村</td>\n",
       "      <td>一梯三户</td>\n",
       "    </tr>\n",
       "  </tbody>\n",
       "</table>\n",
       "</div>"
      ],
      "text/plain": [
       "                      title  total_price    price period       time community  \\\n",
       "0   汪家井西区，精装一室一厅，满五唯一，90年房龄        212.0  46522.0     未知  1990年建/板楼     汪家井小区   \n",
       "1   近中环 中间楼层 满五唯一 价格可谈 诚意出售        238.0  41998.0     未知  1995年建/板楼     真光九街坊   \n",
       "2           汪家井小区 2室1厅 225万        225.0  44205.0     未知  1987年建/板楼     汪家井小区   \n",
       "3  全明户型，朝南带阳台，厨卫朝北，楼层好，采光充足        280.0  69722.0     未知  1987年建/板楼   东新支路55弄   \n",
       "4  满五唯一，精装修，一梯三户 边套全明  价格可谈        230.0  56791.0     未知  1980年建/板楼      宜川一村   \n",
       "\n",
       "  neighbours  \n",
       "0       一梯六户  \n",
       "1       一梯四户  \n",
       "2       一梯四户  \n",
       "3       一梯九户  \n",
       "4       一梯三户  "
      ]
     },
     "execution_count": 63,
     "metadata": {},
     "output_type": "execute_result"
    }
   ],
   "source": [
    "data_clean.head()"
   ]
  },
  {
   "cell_type": "code",
   "execution_count": 64,
   "metadata": {},
   "outputs": [
    {
     "name": "stdout",
     "output_type": "stream",
     "text": [
      "总的房源数目: 661\n"
     ]
    }
   ],
   "source": [
    "print('总的房源数目: {}'.format(len(data_clean)))"
   ]
  },
  {
   "cell_type": "code",
   "execution_count": 65,
   "metadata": {},
   "outputs": [
    {
     "data": {
      "text/html": [
       "<div>\n",
       "<style scoped>\n",
       "    .dataframe tbody tr th:only-of-type {\n",
       "        vertical-align: middle;\n",
       "    }\n",
       "\n",
       "    .dataframe tbody tr th {\n",
       "        vertical-align: top;\n",
       "    }\n",
       "\n",
       "    .dataframe thead th {\n",
       "        text-align: right;\n",
       "    }\n",
       "</style>\n",
       "<table border=\"1\" class=\"dataframe\">\n",
       "  <thead>\n",
       "    <tr style=\"text-align: right;\">\n",
       "      <th></th>\n",
       "      <th>community</th>\n",
       "      <th>community_avg_price</th>\n",
       "    </tr>\n",
       "  </thead>\n",
       "  <tbody>\n",
       "    <tr>\n",
       "      <th>0</th>\n",
       "      <td>万航渡后路87号</td>\n",
       "      <td>74735.0</td>\n",
       "    </tr>\n",
       "    <tr>\n",
       "      <th>1</th>\n",
       "      <td>上钞桂花苑</td>\n",
       "      <td>60204.0</td>\n",
       "    </tr>\n",
       "    <tr>\n",
       "      <th>2</th>\n",
       "      <td>世纪之门</td>\n",
       "      <td>79575.5</td>\n",
       "    </tr>\n",
       "    <tr>\n",
       "      <th>3</th>\n",
       "      <td>东新支路55弄</td>\n",
       "      <td>65802.2</td>\n",
       "    </tr>\n",
       "    <tr>\n",
       "      <th>4</th>\n",
       "      <td>东泉苑小区</td>\n",
       "      <td>52105.0</td>\n",
       "    </tr>\n",
       "  </tbody>\n",
       "</table>\n",
       "</div>"
      ],
      "text/plain": [
       "  community  community_avg_price\n",
       "0  万航渡后路87号              74735.0\n",
       "1     上钞桂花苑              60204.0\n",
       "2      世纪之门              79575.5\n",
       "3   东新支路55弄              65802.2\n",
       "4     东泉苑小区              52105.0"
      ]
     },
     "execution_count": 65,
     "metadata": {},
     "output_type": "execute_result"
    }
   ],
   "source": [
    "community_price_avg = data_clean.groupby('community', as_index=False).price.agg('mean').rename(columns={'price': 'community_avg_price'})\n",
    "community_price_avg.head()"
   ]
  },
  {
   "cell_type": "code",
   "execution_count": 71,
   "metadata": {},
   "outputs": [
    {
     "name": "stdout",
     "output_type": "stream",
     "text": [
      "总的小区数目: 218\n"
     ]
    }
   ],
   "source": [
    "print('总的小区数目: {}'.format(len(community_price_avg)))"
   ]
  },
  {
   "cell_type": "code",
   "execution_count": 69,
   "metadata": {},
   "outputs": [],
   "source": [
    "data_clean = data_clean.merge(community_price_avg, how='left', on='community')"
   ]
  },
  {
   "cell_type": "code",
   "execution_count": 70,
   "metadata": {},
   "outputs": [
    {
     "data": {
      "text/html": [
       "<div>\n",
       "<style scoped>\n",
       "    .dataframe tbody tr th:only-of-type {\n",
       "        vertical-align: middle;\n",
       "    }\n",
       "\n",
       "    .dataframe tbody tr th {\n",
       "        vertical-align: top;\n",
       "    }\n",
       "\n",
       "    .dataframe thead th {\n",
       "        text-align: right;\n",
       "    }\n",
       "</style>\n",
       "<table border=\"1\" class=\"dataframe\">\n",
       "  <thead>\n",
       "    <tr style=\"text-align: right;\">\n",
       "      <th></th>\n",
       "      <th>title</th>\n",
       "      <th>total_price</th>\n",
       "      <th>price</th>\n",
       "      <th>period</th>\n",
       "      <th>time</th>\n",
       "      <th>community</th>\n",
       "      <th>neighbours</th>\n",
       "      <th>community_avg_price</th>\n",
       "    </tr>\n",
       "  </thead>\n",
       "  <tbody>\n",
       "    <tr>\n",
       "      <th>0</th>\n",
       "      <td>汪家井西区，精装一室一厅，满五唯一，90年房龄</td>\n",
       "      <td>212.0</td>\n",
       "      <td>46522.0</td>\n",
       "      <td>未知</td>\n",
       "      <td>1990年建/板楼</td>\n",
       "      <td>汪家井小区</td>\n",
       "      <td>一梯六户</td>\n",
       "      <td>48002.333333</td>\n",
       "    </tr>\n",
       "    <tr>\n",
       "      <th>1</th>\n",
       "      <td>近中环 中间楼层 满五唯一 价格可谈 诚意出售</td>\n",
       "      <td>238.0</td>\n",
       "      <td>41998.0</td>\n",
       "      <td>未知</td>\n",
       "      <td>1995年建/板楼</td>\n",
       "      <td>真光九街坊</td>\n",
       "      <td>一梯四户</td>\n",
       "      <td>45536.000000</td>\n",
       "    </tr>\n",
       "    <tr>\n",
       "      <th>2</th>\n",
       "      <td>汪家井小区 2室1厅 225万</td>\n",
       "      <td>225.0</td>\n",
       "      <td>44205.0</td>\n",
       "      <td>未知</td>\n",
       "      <td>1987年建/板楼</td>\n",
       "      <td>汪家井小区</td>\n",
       "      <td>一梯四户</td>\n",
       "      <td>48002.333333</td>\n",
       "    </tr>\n",
       "    <tr>\n",
       "      <th>3</th>\n",
       "      <td>全明户型，朝南带阳台，厨卫朝北，楼层好，采光充足</td>\n",
       "      <td>280.0</td>\n",
       "      <td>69722.0</td>\n",
       "      <td>未知</td>\n",
       "      <td>1987年建/板楼</td>\n",
       "      <td>东新支路55弄</td>\n",
       "      <td>一梯九户</td>\n",
       "      <td>65802.200000</td>\n",
       "    </tr>\n",
       "    <tr>\n",
       "      <th>4</th>\n",
       "      <td>满五唯一，精装修，一梯三户 边套全明  价格可谈</td>\n",
       "      <td>230.0</td>\n",
       "      <td>56791.0</td>\n",
       "      <td>未知</td>\n",
       "      <td>1980年建/板楼</td>\n",
       "      <td>宜川一村</td>\n",
       "      <td>一梯三户</td>\n",
       "      <td>49876.222222</td>\n",
       "    </tr>\n",
       "  </tbody>\n",
       "</table>\n",
       "</div>"
      ],
      "text/plain": [
       "                      title  total_price    price period       time community  \\\n",
       "0   汪家井西区，精装一室一厅，满五唯一，90年房龄        212.0  46522.0     未知  1990年建/板楼     汪家井小区   \n",
       "1   近中环 中间楼层 满五唯一 价格可谈 诚意出售        238.0  41998.0     未知  1995年建/板楼     真光九街坊   \n",
       "2           汪家井小区 2室1厅 225万        225.0  44205.0     未知  1987年建/板楼     汪家井小区   \n",
       "3  全明户型，朝南带阳台，厨卫朝北，楼层好，采光充足        280.0  69722.0     未知  1987年建/板楼   东新支路55弄   \n",
       "4  满五唯一，精装修，一梯三户 边套全明  价格可谈        230.0  56791.0     未知  1980年建/板楼      宜川一村   \n",
       "\n",
       "  neighbours  community_avg_price  \n",
       "0       一梯六户         48002.333333  \n",
       "1       一梯四户         45536.000000  \n",
       "2       一梯四户         48002.333333  \n",
       "3       一梯九户         65802.200000  \n",
       "4       一梯三户         49876.222222  "
      ]
     },
     "execution_count": 70,
     "metadata": {},
     "output_type": "execute_result"
    }
   ],
   "source": [
    "data_clean.head()"
   ]
  }
 ],
 "metadata": {
  "kernelspec": {
   "display_name": "Python 3",
   "language": "python",
   "name": "python3"
  },
  "language_info": {
   "codemirror_mode": {
    "name": "ipython",
    "version": 3
   },
   "file_extension": ".py",
   "mimetype": "text/x-python",
   "name": "python",
   "nbconvert_exporter": "python",
   "pygments_lexer": "ipython3",
   "version": "3.6.6"
  }
 },
 "nbformat": 4,
 "nbformat_minor": 2
}
